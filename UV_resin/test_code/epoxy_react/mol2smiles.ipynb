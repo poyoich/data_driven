{
 "cells": [
  {
   "cell_type": "code",
   "execution_count": 8,
   "metadata": {},
   "outputs": [
    {
     "name": "stdout",
     "output_type": "stream",
     "text": [
      "C[C@@H](O)COC(C)C\t\"Sketch 1\"\n",
      "\n"
     ]
    }
   ],
   "source": [
    "import openbabel as ob\n",
    "\n",
    "def convert_mol2_to_smiles(mol2_file):\n",
    "    # Open Babelのオブジェクトを作成する\n",
    "    conv = ob.OBConversion()\n",
    "\n",
    "    # mol2ファイルを読み込む\n",
    "    mol = ob.OBMol()\n",
    "    conv.SetInFormat(\"mol2\")\n",
    "    conv.ReadFile(mol, mol2_file)\n",
    "\n",
    "    # SMILES形式に変換する\n",
    "    conv.SetOutFormat(\"smiles\")\n",
    "    smiles = conv.WriteString(mol)\n",
    "\n",
    "    return smiles\n",
    "\n",
    "# mol2ファイルのパスを指定する\n",
    "mol2_file = \"./mol2/post_test.mol2\"\n",
    "\n",
    "# mol2ファイルをSMILESに変換する\n",
    "smiles = convert_mol2_to_smiles(mol2_file)\n",
    "\n",
    "# SMILESを表示する\n",
    "print(smiles)"
   ]
  }
 ],
 "metadata": {
  "kernelspec": {
   "display_name": "pmd",
   "language": "python",
   "name": "python3"
  },
  "language_info": {
   "codemirror_mode": {
    "name": "ipython",
    "version": 3
   },
   "file_extension": ".py",
   "mimetype": "text/x-python",
   "name": "python",
   "nbconvert_exporter": "python",
   "pygments_lexer": "ipython3",
   "version": "3.10.8"
  },
  "orig_nbformat": 4,
  "vscode": {
   "interpreter": {
    "hash": "588e9e64f38ec3a3981d186d77b5754ed8099965d281b218c1be0f582da649e3"
   }
  }
 },
 "nbformat": 4,
 "nbformat_minor": 2
}
