{
 "cells": [
  {
   "cell_type": "code",
   "execution_count": 8,
   "metadata": {},
   "outputs": [],
   "source": [
    "import networkx as nx\n",
    "\n",
    "with open(\"./semi.map\", 'r') as ofn:\n",
    "    lines = ofn.readlines()\n",
    "    \n",
    "for ind, l in enumerate(lines):\n",
    "    sp = l.split()\n",
    "    if len(sp) < 1:\n",
    "        continue\n",
    "    if len(sp) > 1:\n",
    "        if sp[1] == \"equivalences\":\n",
    "            numAtom = int(sp[0])\n",
    "        if sp[1] == \"edgeIDs\":\n",
    "            numEdge = int(sp[0])\n",
    "            \n",
    "    if sp[0] == \"InitiatorIDs\":        \n",
    "        InitIDs = list(map(int,lines[ind+2:ind+2+2]))\n",
    "    \n",
    "    if sp[0] == \"EdgeIDs\":        \n",
    "        EdgeIDs  = list(map(int,lines[ind+2:ind+2+numEdge]))\n",
    "    \n",
    "    if sp[0] == \"Equivalences\":\n",
    "        pre_post_map_bef  = {int(l.split()[0]):int(l.split()[1]) for l in lines[ind+2:ind+2+numAtom] }"
   ]
  },
  {
   "cell_type": "code",
   "execution_count": 9,
   "metadata": {},
   "outputs": [],
   "source": [
    "class Molecules:\n",
    "    def __init__(self, ifn):\n",
    "        with open(ifn, \"r\") as ofn:\n",
    "            lines = ofn.readlines()\n",
    "            \n",
    "        for ind, l in enumerate(lines):\n",
    "            sp = l.split()\n",
    "            if len(sp) < 1:\n",
    "                continue\n",
    "            if len(sp) > 1:\n",
    "                if sp[1] == \"atoms\":\n",
    "                    self.numAtom = int(sp[0])\n",
    "                if sp[1] == \"bonds\":\n",
    "                    self.bonds = int(sp[0])\n",
    "                if sp[1] == \"angles\":\n",
    "                    self.angles = int(sp[0])\n",
    "                if sp[1] == \"dihedrals\":\n",
    "                    self.dihedrals = int(sp[0])\n",
    "                if sp[1] == \"impropers\":\n",
    "                    self.impropers = int(sp[0])\n",
    "                    \n",
    "            if sp[0] == \"Types\":        \n",
    "                self.InitIDs = [ [int(l.split()[0]),l.split()[1]] for l in lines[ind+2:ind+2+self.numAtom] ]\n",
    "\n",
    "            if sp[0] == \"Charges\":        \n",
    "                self.Charges = {int(l.split()[0]):l.split()[1] for l in lines[ind+2:ind+2+self.numAtom] }\n",
    "\n",
    "            if sp[0] == \"Coords\":        \n",
    "                self.Coords = {int(l.split()[0]):\"\\t\".join(l.split()[1:]) for l in lines[ind+2:ind+2+self.numAtom] }\n",
    "            \n",
    "            if sp[0] == \"Bonds\":\n",
    "                self.Bonds = [ list(map(int, l.split()[1:])) for l in lines[ind+2:ind+2+self.bonds]]\n",
    "                \n",
    "            if sp[0] == \"Angles\":\n",
    "                self.Angles = [ list(map(int, l.split()[1:])) for l in lines[ind+2:ind+2+self.angles]]\n",
    "                \n",
    "            if sp[0] == \"Dihedrals\":\n",
    "                self.Dihedrals = [ list(map(int, l.split()[1:])) for l in lines[ind+2:ind+2+self.dihedrals]]         \n",
    "                \n",
    "            if sp[0] == \"Impropers\":\n",
    "                self.Impropers = [ list(map(int, l.split()[1:])) for l in lines[ind+2:ind+2+self.impropers]]        \n",
    "    \n",
    "    def Delete_atoms(self, delete_atoms):\n",
    "        \n",
    "        self.InitIDs = {key:val for key,val in self.InitIDs if key not in delete_atoms}\n",
    "        self.old2newid = {key:ind+1 for ind,key in enumerate(self.InitIDs)}\n",
    "        self.new2old = {value: key for key, value in self.old2newid.items()}\n",
    "        \n",
    "        self.InitIDs = {self.old2newid[key]:val for key,val in self.InitIDs.items()}\n",
    "        self.Charges = {self.old2newid[key]:val for key,val in self.Charges.items() if key in self.old2newid}\n",
    "        self.Coords = {self.old2newid[key]:val for key,val in self.Coords.items() if key in self.old2newid}\n",
    "        \n",
    "        self.Bonds = [ [l[0]] + [self.old2newid[a] for a in l[1:]] for l in self.Bonds if all(elem in self.old2newid for elem in l[1:])]\n",
    "        self.Angles = [ [l[0]] + [self.old2newid[a] for a in l[1:]] for l in self.Angles if all(elem in self.old2newid for elem in l[1:])]\n",
    "        self.Dihedrals = [ [l[0]] + [self.old2newid[a] for a in l[1:]] for l in self.Dihedrals if all(elem in self.old2newid for elem in l[1:])]\n",
    "        self.Impropers = [ [l[0]] + [self.old2newid[a] for a in l[1:]] for l in self.Impropers if all(elem in self.old2newid for elem in l[1:])]\n",
    "        \n",
    "        self.numAtom = len(self.InitIDs)\n",
    "        self.bonds = len(self.Bonds)\n",
    "        self.angles = len(self.Angles)\n",
    "        self.dihedrals = len(self.Dihedrals)\n",
    "        self.impropers = len(self.Impropers)\n",
    "        \n",
    "    def Write_molecule(self, ifn):\n",
    "        with open(ifn, \"w\") as ofn:\n",
    "            ofn.write(\"delete edged atoms \\n\")\n",
    "            ofn.write(f\"{self.numAtom} atoms\\n{self.bonds} bonds\\n{self.angles} angles\\n{self.dihedrals} dihedrals\\n{self.impropers} impropers\\n\")\n",
    "            ofn.write(\"\\nTypes\\n\\n\")\n",
    "            ofn.write(\"\\n\".join([ \"\\t\".join([str(k),val]) for k,val in self.InitIDs.items()]))\n",
    "            ofn.write(\"\\n\\nCharges\\n\\n\")\n",
    "            ofn.write(\"\\n\".join([ \"\\t\".join([str(k),val]) for k,val in self.Charges.items()]))\n",
    "            ofn.write(\"\\n\\nCoords\\n\\n\")\n",
    "            ofn.write(\"\\n\".join([ \"\\t\".join([str(k),val]) for k,val in self.Coords.items()]))\n",
    "            ofn.write(\"\\n\\nBonds\\n\\n\")\n",
    "            ofn.write(\"\\n\".join([ \"\\t\".join([str(ind+1)] + list(map(str, val))) for ind,val in enumerate(self.Bonds)]))\n",
    "            ofn.write(\"\\n\\nAngles\\n\\n\")\n",
    "            ofn.write(\"\\n\".join([ \"\\t\".join([str(ind+1)] + list(map(str, val))) for ind,val in enumerate(self.Angles)]))\n",
    "            ofn.write(\"\\n\\nDihedrals\\n\\n\")\n",
    "            ofn.write(\"\\n\".join([ \"\\t\".join([str(ind+1)] + list(map(str, val))) for ind,val in enumerate(self.Dihedrals)]))\n",
    "            ofn.write(\"\\n\\nImpropers\\n\\n\")\n",
    "            ofn.write(\"\\n\".join([ \"\\t\".join([str(ind+1)] + list(map(str, val))) for ind,val in enumerate(self.Impropers)]))\n",
    "            \n",
    "    def Write_xyz(self,ifn):\n",
    "        with open(ifn, \"w\") as ofn:\n",
    "            ofn.write(f\"{self.numAtom}\\n\")\n",
    "            ofn.write(\"mol\\n\")\n",
    "            ofn.write(\"\\n\".join([ \"\\t\".join([str(v2),v1]) for v1,v2 in zip(self.Coords.values(),self.InitIDs.values())]))"
   ]
  },
  {
   "cell_type": "code",
   "execution_count": 10,
   "metadata": {},
   "outputs": [],
   "source": [
    "pre_mol = Molecules(\"./pre-mol.data\")\n",
    "\n",
    "G = nx.Graph()\n",
    "G.add_nodes_from([i for i in range(1,pre_mol.numAtom+1)])\n",
    "G.add_edges_from([[b[1], b[2]] for b in pre_mol.Bonds])"
   ]
  },
  {
   "cell_type": "code",
   "execution_count": 11,
   "metadata": {},
   "outputs": [],
   "source": [
    "G_del_edge = G.copy()\n",
    "\n",
    "for edge in EdgeIDs:\n",
    "    G_del_edge.remove_node(edge)\n",
    "\n",
    "delete_atoms = []\n",
    "for component in nx.connected_components(G_del_edge):\n",
    "    if set(InitIDs).intersection(set(component)):\n",
    "        pass\n",
    "    else:\n",
    "        delete_atoms.extend(component)"
   ]
  },
  {
   "cell_type": "code",
   "execution_count": 12,
   "metadata": {},
   "outputs": [],
   "source": [
    "pre_mol.Delete_atoms(delete_atoms)\n",
    "pre_mol.Write_molecule(\"cleaned_pre-mol\")\n",
    "#"
   ]
  },
  {
   "cell_type": "code",
   "execution_count": 13,
   "metadata": {},
   "outputs": [],
   "source": [
    "post_mol = Molecules(\"./post-mol.data\")\n",
    "post_mol.Delete_atoms([pre_post_map_bef[v] for v in delete_atoms])\n",
    "post_mol.Write_molecule(\"cleaned_post-mol\")\n"
   ]
  },
  {
   "cell_type": "code",
   "execution_count": 14,
   "metadata": {},
   "outputs": [],
   "source": [
    "with open(\"./cleaned_semi.map\", 'w') as ofn:\n",
    "    ofn.write(\"this map is created by cleaned-SemiMapper\\n\\n\")\n",
    "    ofn.write(f\"{pre_mol.numAtom} equivalences\\n{len(EdgeIDs)} edgeIDs\\n\\n\")\n",
    "    ofn.write(\"InitiatorIDs\\n\\n\")\n",
    "    ofn.write(\"\\n\".join([str(pre_mol.old2newid[id]) for id in InitIDs]))\n",
    "    ofn.write(\"\\n\\nEdgeIDs\\n\\n\")\n",
    "    ofn.write(\"\\n\".join([str(pre_mol.old2newid[id]) for id in EdgeIDs]))\n",
    "    ofn.write(\"\\n\\nEquivalences\\n\\n\")\n",
    "    ofn.write(\"\\n\".join( [\"\\t\".join([str(ind), str(post_mol.old2newid[pre_post_map_bef[pre_mol.new2old[ind]]])]) for ind in range(1, pre_mol.numAtom+1)] ) )\n",
    "    ofn.write(\"\\n\")\n"
   ]
  }
 ],
 "metadata": {
  "kernelspec": {
   "display_name": "pmd",
   "language": "python",
   "name": "python3"
  },
  "language_info": {
   "codemirror_mode": {
    "name": "ipython",
    "version": 3
   },
   "file_extension": ".py",
   "mimetype": "text/x-python",
   "name": "python",
   "nbconvert_exporter": "python",
   "pygments_lexer": "ipython3",
   "version": "3.10.8"
  },
  "orig_nbformat": 4,
  "vscode": {
   "interpreter": {
    "hash": "588e9e64f38ec3a3981d186d77b5754ed8099965d281b218c1be0f582da649e3"
   }
  }
 },
 "nbformat": 4,
 "nbformat_minor": 2
}
