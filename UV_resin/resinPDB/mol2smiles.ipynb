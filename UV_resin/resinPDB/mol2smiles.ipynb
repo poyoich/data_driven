{
 "cells": [
  {
   "cell_type": "code",
   "execution_count": 2,
   "metadata": {},
   "outputs": [
    {
     "name": "stdout",
     "output_type": "stream",
     "text": [
      "O=C(OC[C@@H]1CC[C@H]2[C@H](O2)C1)[C@@H]1CC[C@@H]([C@@H](O)C1)O[C@H]1CC[C@@H](COC(=O)[C@@H]2CCC[C@@H](O)C2)C[C@@H]1O[C@H]1CCC[C@@H](COC(=O)[C@@H]2CC[C@H]3[C@@H](O3)C2)C1\tmol_CEL2021P\n",
      "\n"
     ]
    },
    {
     "name": "stderr",
     "output_type": "stream",
     "text": [
      "/home/suehara/anaconda3/envs/pmd/lib/python3.10/site-packages/openbabel/__init__.py:14: UserWarning: \"import openbabel\" is deprecated, instead use \"from openbabel import openbabel\"\n",
      "  warnings.warn('\"import openbabel\" is deprecated, instead use \"from openbabel import openbabel\"')\n"
     ]
    }
   ],
   "source": [
    "import openbabel as ob\n",
    "\n",
    "def convert_mol2_to_smiles(mol2_file):\n",
    "    # Open Babelのオブジェクトを作成する\n",
    "    conv = ob.OBConversion()\n",
    "\n",
    "    # mol2ファイルを読み込む\n",
    "    mol = ob.OBMol()\n",
    "    conv.SetInFormat(\"mol2\")\n",
    "    conv.ReadFile(mol, mol2_file)\n",
    "\n",
    "    # SMILES形式に変換する\n",
    "    conv.SetOutFormat(\"smiles\")\n",
    "    smiles = conv.WriteString(mol)\n",
    "\n",
    "    return smiles\n",
    "\n",
    "# mol2ファイルのパスを指定する\n",
    "mol2_file = \"./mol_CEL2021P_post.mol2\"\n",
    "\n",
    "# mol2ファイルをSMILESに変換する\n",
    "smiles = convert_mol2_to_smiles(mol2_file)\n",
    "\n",
    "# SMILESを表示する\n",
    "print(smiles)"
   ]
  }
 ],
 "metadata": {
  "kernelspec": {
   "display_name": "pmd",
   "language": "python",
   "name": "python3"
  },
  "language_info": {
   "codemirror_mode": {
    "name": "ipython",
    "version": 3
   },
   "file_extension": ".py",
   "mimetype": "text/x-python",
   "name": "python",
   "nbconvert_exporter": "python",
   "pygments_lexer": "ipython3",
   "version": "3.10.8"
  },
  "orig_nbformat": 4,
  "vscode": {
   "interpreter": {
    "hash": "588e9e64f38ec3a3981d186d77b5754ed8099965d281b218c1be0f582da649e3"
   }
  }
 },
 "nbformat": 4,
 "nbformat_minor": 2
}
