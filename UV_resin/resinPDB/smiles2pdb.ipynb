{
 "cells": [
  {
   "cell_type": "code",
   "execution_count": 12,
   "metadata": {},
   "outputs": [
    {
     "name": "stderr",
     "output_type": "stream",
     "text": [
      "/home/suehara/anaconda3/envs/pmd/lib/python3.10/site-packages/openbabel/__init__.py:14: UserWarning: \"import openbabel\" is deprecated, instead use \"from openbabel import openbabel\"\n",
      "  warnings.warn('\"import openbabel\" is deprecated, instead use \"from openbabel import openbabel\"')\n"
     ]
    }
   ],
   "source": [
    "import pandas as pd\n",
    "\n",
    "from rdkit import Chem\n",
    "from rdkit.Chem import AllChem\n",
    "\n",
    "# SMILES形式の文字列を定義する\n",
    "\n",
    "df = pd.read_excel(\"./resin.xlsx\")\n",
    "\n",
    "    \n",
    "obConversion = openbabel.OBConversion()\n",
    "obConversion.SetInAndOutFormats(\"smi\", \"pdb\")\n",
    "mol = openbabel.OBMol()\n",
    "\n",
    "# リスト内の各SMILESをPDBファイルに変換\n",
    "for smiles, name in zip(df[\"smiles\"], df[\"name\"]):\n",
    "    \n",
    "    try:\n",
    "        mol = Chem.MolFromSmiles(smiles)\n",
    "        mol = Chem.AddHs(mol)\n",
    "        AllChem.EmbedMolecule(mol)\n",
    "        pdb_file = f'mol_{name}.pdb'\n",
    "        Chem.MolToPDBFile(mol, pdb_file)\n",
    "    except:\n",
    "        print(f\"Error: {name}\")\n",
    "    else:\n",
    "        pass\n"
   ]
  }
 ],
 "metadata": {
  "kernelspec": {
   "display_name": "pmd",
   "language": "python",
   "name": "python3"
  },
  "language_info": {
   "codemirror_mode": {
    "name": "ipython",
    "version": 3
   },
   "file_extension": ".py",
   "mimetype": "text/x-python",
   "name": "python",
   "nbconvert_exporter": "python",
   "pygments_lexer": "ipython3",
   "version": "3.10.8"
  },
  "orig_nbformat": 4,
  "vscode": {
   "interpreter": {
    "hash": "588e9e64f38ec3a3981d186d77b5754ed8099965d281b218c1be0f582da649e3"
   }
  }
 },
 "nbformat": 4,
 "nbformat_minor": 2
}
