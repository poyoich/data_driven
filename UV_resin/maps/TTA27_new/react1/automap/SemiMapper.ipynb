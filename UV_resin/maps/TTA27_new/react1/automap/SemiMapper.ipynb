{
 "cells": [
  {
   "cell_type": "code",
   "execution_count": 1,
   "metadata": {},
   "outputs": [],
   "source": [
    "import networkx as nx\n",
    "import matplotlib.pyplot as plt"
   ]
  },
  {
   "cell_type": "code",
   "execution_count": 2,
   "metadata": {},
   "outputs": [],
   "source": [
    "class Molecules:\n",
    "    def __init__(self, ifn):\n",
    "        with open(ifn, \"r\") as ofn:\n",
    "            lines = ofn.readlines()\n",
    "            \n",
    "        for ind, l in enumerate(lines):\n",
    "            sp = l.split()\n",
    "            if len(sp) < 1:\n",
    "                continue\n",
    "            if len(sp) > 1:\n",
    "                if sp[1] == \"atoms\":\n",
    "                    self.numAtom = int(sp[0])\n",
    "                if sp[1] == \"bonds\":\n",
    "                    self.bonds = int(sp[0])\n",
    "                if sp[1] == \"angles\":\n",
    "                    self.angles = int(sp[0])\n",
    "                if sp[1] == \"dihedrals\":\n",
    "                    self.dihedrals = int(sp[0])\n",
    "                if sp[1] == \"impropers\":\n",
    "                    self.impropers = int(sp[0])\n",
    "                    \n",
    "            if sp[0] == \"Types\":        \n",
    "                self.InitIDs = [ [int(l.split()[0]),l.split()[1]] for l in lines[ind+2:ind+2+self.numAtom] ]\n",
    "\n",
    "            if sp[0] == \"Charges\":        \n",
    "                self.Charges = {int(l.split()[0]):l.split()[1] for l in lines[ind+2:ind+2+self.numAtom] }\n",
    "\n",
    "            if sp[0] == \"Coords\":        \n",
    "                self.Coords = {int(l.split()[0]):\"\\t\".join(l.split()[1:]) for l in lines[ind+2:ind+2+self.numAtom] }\n",
    "            \n",
    "            if sp[0] == \"Bonds\":\n",
    "                self.Bonds = [ list(map(int, l.split()[1:])) for l in lines[ind+2:ind+2+self.bonds]]\n",
    "                \n",
    "            if sp[0] == \"Angles\":\n",
    "                self.Angles = [ list(map(int, l.split()[1:])) for l in lines[ind+2:ind+2+self.angles]]\n",
    "                \n",
    "            if sp[0] == \"Dihedrals\":\n",
    "                self.Dihedrals = [ list(map(int, l.split()[1:])) for l in lines[ind+2:ind+2+self.dihedrals]]         \n",
    "                \n",
    "            if sp[0] == \"Impropers\":\n",
    "                self.Impropers = [ list(map(int, l.split()[1:])) for l in lines[ind+2:ind+2+self.impropers]]        \n",
    "    \n",
    "    def Delete_atoms(self, delete_atoms):\n",
    "        \n",
    "        self.InitIDs = {key:val for key,val in self.InitIDs if key not in delete_atoms}\n",
    "        self.old2newid = {key:ind+1 for ind,key in enumerate(self.InitIDs)}\n",
    "        self.new2old = {value: key for key, value in self.old2newid.items()}\n",
    "        \n",
    "        self.InitIDs = {self.old2newid[key]:val for key,val in self.InitIDs.items()}\n",
    "        self.Charges = {self.old2newid[key]:val for key,val in self.Charges.items() if key in self.old2newid}\n",
    "        self.Coords = {self.old2newid[key]:val for key,val in self.Coords.items() if key in self.old2newid}\n",
    "        \n",
    "        self.Bonds = [ [l[0]] + [self.old2newid[a] for a in l[1:]] for l in self.Bonds if all(elem in self.old2newid for elem in l[1:])]\n",
    "        self.Angles = [ [l[0]] + [self.old2newid[a] for a in l[1:]] for l in self.Angles if all(elem in self.old2newid for elem in l[1:])]\n",
    "        self.Dihedrals = [ [l[0]] + [self.old2newid[a] for a in l[1:]] for l in self.Dihedrals if all(elem in self.old2newid for elem in l[1:])]\n",
    "        self.Impropers = [ [l[0]] + [self.old2newid[a] for a in l[1:]] for l in self.Impropers if all(elem in self.old2newid for elem in l[1:])]\n",
    "        \n",
    "        self.numAtom = len(self.InitIDs)\n",
    "        self.bonds = len(self.Bonds)\n",
    "        self.angles = len(self.Angles)\n",
    "        self.dihedrals = len(self.Dihedrals)\n",
    "        self.impropers = len(self.Impropers)\n",
    "        \n",
    "    def Write_molecule(self, ifn):\n",
    "        with open(ifn, \"w\") as ofn:\n",
    "            ofn.write(\"delete edged atoms \\n\")\n",
    "            ofn.write(f\"{self.numAtom} atoms\\n{self.bonds} bonds\\n{self.angles} angles\\n{self.dihedrals} dihedrals\\n{self.impropers} impropers\\n\")\n",
    "            ofn.write(\"\\nTypes\\n\\n\")\n",
    "            ofn.write(\"\\n\".join([ \"\\t\".join([str(k),val]) for k,val in self.InitIDs.items()]))\n",
    "            ofn.write(\"\\n\\nCharges\\n\\n\")\n",
    "            ofn.write(\"\\n\".join([ \"\\t\".join([str(k),val]) for k,val in self.Charges.items()]))\n",
    "            ofn.write(\"\\n\\nCoords\\n\\n\")\n",
    "            ofn.write(\"\\n\".join([ \"\\t\".join([str(k),val]) for k,val in self.Coords.items()]))\n",
    "            ofn.write(\"\\n\\nBonds\\n\\n\")\n",
    "            ofn.write(\"\\n\".join([ \"\\t\".join([str(ind+1)] + list(map(str, val))) for ind,val in enumerate(self.Bonds)]))\n",
    "            ofn.write(\"\\n\\nAngles\\n\\n\")\n",
    "            ofn.write(\"\\n\".join([ \"\\t\".join([str(ind+1)] + list(map(str, val))) for ind,val in enumerate(self.Angles)]))\n",
    "            ofn.write(\"\\n\\nDihedrals\\n\\n\")\n",
    "            ofn.write(\"\\n\".join([ \"\\t\".join([str(ind+1)] + list(map(str, val))) for ind,val in enumerate(self.Dihedrals)]))\n",
    "            ofn.write(\"\\n\\nImpropers\\n\\n\")\n",
    "            ofn.write(\"\\n\".join([ \"\\t\".join([str(ind+1)] + list(map(str, val))) for ind,val in enumerate(self.Impropers)]))\n",
    "            \n",
    "    def Write_xyz(self,ifn):\n",
    "        with open(ifn, \"w\") as ofn:\n",
    "            ofn.write(f\"{self.numAtom}\\n\")\n",
    "            ofn.write(\"mol\\n\")\n",
    "            ofn.write(\"\\n\".join([ \"\\t\".join([str(v2),v1]) for v1,v2 in zip(self.Coords.values(),self.InitIDs.values())]))"
   ]
  },
  {
   "cell_type": "code",
   "execution_count": 3,
   "metadata": {},
   "outputs": [],
   "source": [
    "def show_nodes(G):\n",
    "    # ノードの座標を設定\n",
    "    pos = nx.spring_layout(G)\n",
    "\n",
    "    # ノードのラベルを取得\n",
    "    labels = nx.get_node_attributes(G, 'label')\n",
    "\n",
    "    # ラベルの座標を微調整\n",
    "    label_pos = {}\n",
    "    for node, coords in pos.items():\n",
    "        label_pos[node] = (coords[0], coords[1] + 0.08)\n",
    "\n",
    "    # グラフを描画\n",
    "    plt.rcParams[\"figure.figsize\"] = [10,10.0]  \n",
    "    nx.draw_networkx(G, pos)\n",
    "    nx.draw_networkx_labels(G, label_pos, labels, font_size=12, font_family='serif')\n",
    "    plt.axis('off')\n",
    "    plt.show()"
   ]
  },
  {
   "cell_type": "code",
   "execution_count": 4,
   "metadata": {},
   "outputs": [],
   "source": [
    "def check_coord(id,elem,num):\n",
    "    elem_num = {\"H\":1, \"C\":4, \"O\":2, \"N\":3}\n",
    "    if num != elem_num[elem]:\n",
    "        return id\n",
    "    else:\n",
    "        return 0"
   ]
  },
  {
   "cell_type": "code",
   "execution_count": 5,
   "metadata": {},
   "outputs": [],
   "source": [
    "type_elem = {1:\"C\", 2:\"C\", 3:\"C\",4:\"H\",5:\"H\",6:\"O\",7:\"O\",8:\"O\"}\n",
    "InitIDs = [10,67]\n",
    "Bonding = [11,68]\n",
    "Delete = [[10,11],[67,68]]\n",
    "InitIDs_post = [10,12]"
   ]
  },
  {
   "cell_type": "code",
   "execution_count": 6,
   "metadata": {},
   "outputs": [],
   "source": [
    "########input########\n",
    "pre_mol = Molecules(\"./pre-mol.data\")\n",
    "########input########\n",
    "\n",
    "\n",
    "G = nx.Graph()\n",
    "G.add_nodes_from([i for i in range(1,pre_mol.numAtom+1)])\n",
    "for node in G.nodes():\n",
    "    G.nodes[node]['label'] = type_elem[int(pre_mol.InitIDs[node-1][1])]\n",
    "\n",
    "G.add_edges_from([[b[1], b[2]] for b in pre_mol.Bonds])\n"
   ]
  },
  {
   "cell_type": "code",
   "execution_count": 7,
   "metadata": {},
   "outputs": [],
   "source": [
    "Crete = list(list(map(int,val)) for val in [InitIDs,Bonding])\n",
    "G_pre = G.copy()\n",
    "\n",
    "G_pre.add_edges_from(Crete)\n",
    "G_pre.remove_edges_from(Delete)"
   ]
  },
  {
   "cell_type": "code",
   "execution_count": 8,
   "metadata": {},
   "outputs": [],
   "source": [
    "near_nodes = []\n",
    "\n",
    "for atom in InitIDs:\n",
    "    distances = nx.single_source_shortest_path_length(G_pre, atom)\n",
    "    near_nodes.extend([n for n, d in distances.items() if d <= 4])\n",
    "    \n",
    "other_nodes = set(G_pre.nodes()) - set(near_nodes)\n",
    "delete_nodes_pre = list(set(G_pre.nodes()) - set(near_nodes))\n",
    "G_pre.remove_nodes_from(delete_nodes_pre)\n"
   ]
  },
  {
   "cell_type": "code",
   "execution_count": 9,
   "metadata": {},
   "outputs": [],
   "source": [
    "post_mol = Molecules(\"./post-mol.data\")\n",
    "\n",
    "G = nx.Graph()\n",
    "G.add_nodes_from([i for i in range(1,post_mol.numAtom+1)])\n",
    "\n",
    "for node in G.nodes():\n",
    "    G.nodes[node]['label'] = type_elem[int(post_mol.InitIDs[node-1][1])]\n",
    "\n",
    "G.add_edges_from([[b[1], b[2]] for b in post_mol.Bonds])\n",
    "G_post = G.copy()\n",
    "\n",
    "near_nodes=[]\n",
    "for atom in InitIDs_post:\n",
    "    distances = nx.single_source_shortest_path_length(G_post, atom)\n",
    "    \n",
    "    near_nodes.extend([n for n, d in distances.items() if d <= 4])\n",
    "\n",
    "other_nodes = set(G_post.nodes()) - set(near_nodes)\n",
    "delete_nodes_post = list(set(G_post.nodes()) - set(near_nodes))\n",
    "G_post.remove_nodes_from(delete_nodes_post)"
   ]
  },
  {
   "cell_type": "code",
   "execution_count": 10,
   "metadata": {},
   "outputs": [],
   "source": [
    "GM = nx.isomorphism.GraphMatcher(G_pre, G_post,node_match=lambda x, y: x['label'] == y['label'])\n",
    "\n",
    "if GM.is_isomorphic():\n",
    "    node_mapping = GM.mapping\n",
    "else:\n",
    "    print(\"マッチングできないよ STEP1\")"
   ]
  },
  {
   "cell_type": "code",
   "execution_count": 11,
   "metadata": {},
   "outputs": [
    {
     "name": "stdout",
     "output_type": "stream",
     "text": [
      "[10, 67, 68]\n",
      "[10, 12, 15]\n"
     ]
    }
   ],
   "source": [
    "change_type_ids_pre = []\n",
    "change_type_ids_post = []\n",
    "for a,b in GM.mapping.items():\n",
    "    pre_type = pre_mol.InitIDs[a-1][1]\n",
    "    post_type = post_mol.InitIDs[b-1][1]\n",
    "    if pre_type != post_type:\n",
    "        change_type_ids_pre.append(a)\n",
    "        change_type_ids_post.append(b)\n",
    "\n",
    "print(change_type_ids_pre)\n",
    "print(change_type_ids_post)\n"
   ]
  },
  {
   "cell_type": "code",
   "execution_count": 12,
   "metadata": {},
   "outputs": [],
   "source": [
    "near_nodes=[]\n",
    "for atom in set(InitIDs+change_type_ids_pre):\n",
    "    distances = nx.single_source_shortest_path_length(G_pre, atom)\n",
    "    near_nodes.extend([n for n, d in distances.items() if d <= 3])\n",
    "\n",
    "other_nodes = set(G_pre.nodes()) - set(near_nodes)\n",
    "delete_nodes_pre2 = list(set(G_pre.nodes()) - set(near_nodes))\n",
    "\n",
    "G_pre.remove_nodes_from(delete_nodes_pre2)\n",
    "pre_mol.Delete_atoms(delete_nodes_pre+delete_nodes_pre2)\n",
    "#show_nodes(G_pre)"
   ]
  },
  {
   "cell_type": "code",
   "execution_count": 13,
   "metadata": {},
   "outputs": [],
   "source": [
    "near_nodes=[]\n",
    "for atom in set(InitIDs_post+change_type_ids_post):\n",
    "    distances = nx.single_source_shortest_path_length(G_post, atom)\n",
    "    near_nodes.extend([n for n, d in distances.items() if d <= 3])\n",
    "\n",
    "other_nodes = set(G_post.nodes()) - set(near_nodes)\n",
    "delete_nodes_post2 = list(set(G_post.nodes()) - set(near_nodes))\n",
    "\n",
    "G_post.remove_nodes_from(delete_nodes_post2)\n",
    "post_mol.Delete_atoms(delete_nodes_post+delete_nodes_post2)\n"
   ]
  },
  {
   "cell_type": "code",
   "execution_count": 14,
   "metadata": {},
   "outputs": [
    {
     "name": "stdout",
     "output_type": "stream",
     "text": [
      "[5, 18, 23, 51, 56]\n",
      "[10, 67, 68]\n"
     ]
    }
   ],
   "source": [
    "GM = nx.isomorphism.GraphMatcher(G_pre, G_post,node_match=lambda x, y: x['label'] == y['label'])\n",
    "\n",
    "if GM.is_isomorphic():\n",
    "    node_mapping = GM.mapping\n",
    "    \n",
    "    edge_atoms = []\n",
    "    for node, data in G_pre.nodes.data():\n",
    "        degree = G_pre.degree(node)\n",
    "        label = data['label']\n",
    "        flag = check_coord(node,label,degree)\n",
    "        if flag:\n",
    "            edge_atoms.append(flag)\n",
    "\n",
    "    with open(\"semi.map\", \"w\") as ofn:\n",
    "        ofn.write(\"this map is created by SemiMapper\\n\\n\")\n",
    "        ofn.write(f\"{G_pre.number_of_nodes()} equivalences\\n\")\n",
    "        ofn.write(f\"{len(edge_atoms)} edgeIDs\\n\\n\")\n",
    "        ofn.write(\"InitiatorIDs\\n\\n\")\n",
    "        ofn.write(\"\\n\".join([str(pre_mol.old2newid[ind]) for ind in InitIDs]))\n",
    "        ofn.write(\"\\n\\nEdgeIDs\\n\\n\")\n",
    "        ofn.write(\"\\n\".join([str(pre_mol.old2newid[ind]) for ind in edge_atoms]))\n",
    "        ofn.write(\"\\n\\nEquivalences\\n\\n\")\n",
    "        ofn.write(\"\\n\".join([ \"\\t\".join([str(pre_mol.old2newid[k]), str(post_mol.old2newid[v])]) for k,v  in node_mapping.items()]))\n",
    "    pre_mol.Write_molecule(\"cleaned_pre-mol\")\n",
    "    post_mol.Write_molecule(\"cleaned_post-mol\")\n",
    "        \n",
    "        \n",
    "    for s in change_type_ids_pre+InitIDs_post:\n",
    "        for t in edge_atoms:\n",
    "            dist =  nx.shortest_path_length(G_pre, source=s, target=t)\n",
    "            if dist < 3:\n",
    "                print(dist, s , t)\n",
    "\n",
    "else:\n",
    "    print(\"マッチングできないよ STEP2\")\n",
    "\n",
    "print(edge_atoms)\n",
    "print(change_type_ids_pre)"
   ]
  },
  {
   "cell_type": "code",
   "execution_count": null,
   "metadata": {},
   "outputs": [],
   "source": []
  }
 ],
 "metadata": {
  "kernelspec": {
   "display_name": "pmd",
   "language": "python",
   "name": "python3"
  },
  "language_info": {
   "codemirror_mode": {
    "name": "ipython",
    "version": 3
   },
   "file_extension": ".py",
   "mimetype": "text/x-python",
   "name": "python",
   "nbconvert_exporter": "python",
   "pygments_lexer": "ipython3",
   "version": "3.10.8"
  },
  "orig_nbformat": 4,
  "vscode": {
   "interpreter": {
    "hash": "588e9e64f38ec3a3981d186d77b5754ed8099965d281b218c1be0f582da649e3"
   }
  }
 },
 "nbformat": 4,
 "nbformat_minor": 2
}
